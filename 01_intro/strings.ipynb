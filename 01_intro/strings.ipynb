{
 "cells": [
  {
   "cell_type": "markdown",
   "metadata": {},
   "source": [
    "# Strings in python"
   ]
  },
  {
   "cell_type": "code",
   "execution_count": 1,
   "metadata": {},
   "outputs": [],
   "source": [
    "import sys"
   ]
  },
  {
   "cell_type": "code",
   "execution_count": 7,
   "metadata": {},
   "outputs": [
    {
     "name": "stdout",
     "output_type": "stream",
     "text": [
      "Python is a programming language and an animal\n",
      "this is a snake and it is 5 metres long\n",
      "that is a very very very long animal\n"
     ]
    }
   ],
   "source": [
    "s1 = 'Python is a programming language and an animal'\n",
    "\n",
    "s2 = \"this is a snake and it is \" + str(5) + \" metres long\"\n",
    "\n",
    "s3 = 'that is a ' + 'very '*3 + 'long animal'\n",
    "\n",
    "print (s1)\n",
    "print (s2)\n",
    "print (s3)"
   ]
  },
  {
   "cell_type": "markdown",
   "metadata": {},
   "source": [
    "### IDs"
   ]
  },
  {
   "cell_type": "code",
   "execution_count": 12,
   "metadata": {},
   "outputs": [
    {
     "name": "stdout",
     "output_type": "stream",
     "text": [
      "True\n",
      "False\n",
      "\n",
      "True\n",
      "True\n"
     ]
    }
   ],
   "source": [
    "s4 = 'This'\n",
    "s5 = 'This'\n",
    "s6 = 'this'\n",
    "\n",
    "print(s4 == s5)\n",
    "print(s4 == s6)\n",
    "print()\n",
    "print(s4 is s5)\n",
    "print(s4 is s4)"
   ]
  },
  {
   "cell_type": "code",
   "execution_count": 6,
   "metadata": {},
   "outputs": [
    {
     "name": "stdout",
     "output_type": "stream",
     "text": [
      "b is a? True\n",
      "b == a? True\n",
      "\n",
      "b is a? False\n",
      "b == a? True\n",
      "140486992461120\n",
      "140486992609984\n"
     ]
    }
   ],
   "source": [
    "a = [1,2,3,4,5]\n",
    "b = a\n",
    "print('b is a? ' + str(b is a))\n",
    "print('b == a? ' + str(b == a) + '\\n')\n",
    "\n",
    "b = a[:]\n",
    "print('b is a? ' + str(b is a))\n",
    "print('b == a? ' + str(b == a))\n",
    "\n",
    "print(id(a))\n",
    "print(id(a[:]))"
   ]
  },
  {
   "cell_type": "markdown",
   "metadata": {},
   "source": [
    "### Caching\n",
    "Python caches small integer and string objects, therefore is sometimes holds true for small values"
   ]
  },
  {
   "cell_type": "code",
   "execution_count": 7,
   "metadata": {},
   "outputs": [
    {
     "name": "stdout",
     "output_type": "stream",
     "text": [
      "caching example:\n",
      "True\n",
      "True\n"
     ]
    },
    {
     "name": "stderr",
     "output_type": "stream",
     "text": [
      "<>:4: SyntaxWarning: \"is\" with 'int' literal. Did you mean \"==\"?\n",
      "<>:4: SyntaxWarning: \"is\" with 'int' literal. Did you mean \"==\"?\n",
      "/tmp/ipykernel_149982/1843625622.py:4: SyntaxWarning: \"is\" with 'int' literal. Did you mean \"==\"?\n",
      "  print(10000 is 10**4)\n"
     ]
    }
   ],
   "source": [
    "#cf. slides\n",
    "print('caching example:')\n",
    "print(10000 == 10**4)\n",
    "print(10000 is 10**4)"
   ]
  },
  {
   "cell_type": "markdown",
   "metadata": {},
   "source": [
    "### Interned strings\n",
    "\n",
    "According to the python documentation:  \n",
    "    sys.intern(string)\n",
    "\n",
    "    Enter string in the table of “interned” strings and return the interned string – which is string itself or a copy. Interning strings is useful to gain a little performance on dictionary lookup – if the keys in a dictionary are interned, and the lookup key is interned, the key comparisons (after hashing) can be done by a pointer compare instead of a string compare. Normally, the names used in Python programs are automatically interned, and the dictionaries used to hold module, class or instance attributes have interned keys.\n",
    "\n",
    "    Interned strings are not immortal; you must keep a reference to the return value of intern() around to benefit from it.\n"
   ]
  },
  {
   "cell_type": "code",
   "execution_count": 18,
   "metadata": {},
   "outputs": [
    {
     "name": "stdout",
     "output_type": "stream",
     "text": [
      "True\n",
      "True\n",
      "False\n",
      "True\n"
     ]
    },
    {
     "name": "stderr",
     "output_type": "stream",
     "text": [
      "<>:1: SyntaxWarning: \"is\" with 'str' literal. Did you mean \"==\"?\n",
      "<>:2: SyntaxWarning: \"is\" with 'str' literal. Did you mean \"==\"?\n",
      "<>:4: SyntaxWarning: \"is\" with 'str' literal. Did you mean \"==\"?\n",
      "<>:5: SyntaxWarning: \"is\" with 'str' literal. Did you mean \"==\"?\n",
      "<>:1: SyntaxWarning: \"is\" with 'str' literal. Did you mean \"==\"?\n",
      "<>:2: SyntaxWarning: \"is\" with 'str' literal. Did you mean \"==\"?\n",
      "<>:4: SyntaxWarning: \"is\" with 'str' literal. Did you mean \"==\"?\n",
      "<>:5: SyntaxWarning: \"is\" with 'str' literal. Did you mean \"==\"?\n",
      "/tmp/ipykernel_128160/1908954083.py:1: SyntaxWarning: \"is\" with 'str' literal. Did you mean \"==\"?\n",
      "  print('a' is 'a')\n",
      "/tmp/ipykernel_128160/1908954083.py:2: SyntaxWarning: \"is\" with 'str' literal. Did you mean \"==\"?\n",
      "  print('aa' is 'a'*2)\n",
      "/tmp/ipykernel_128160/1908954083.py:4: SyntaxWarning: \"is\" with 'str' literal. Did you mean \"==\"?\n",
      "  print('aa' is x * 2)\n",
      "/tmp/ipykernel_128160/1908954083.py:5: SyntaxWarning: \"is\" with 'str' literal. Did you mean \"==\"?\n",
      "  print('aa' is sys.intern(x * 2))\n"
     ]
    }
   ],
   "source": [
    "print('a' is 'a')\n",
    "print('aa' is 'a'*2)\n",
    "x = 'a'\n",
    "print('aa' is x * 2)\n",
    "print('aa' is sys.intern(x * 2))"
   ]
  },
  {
   "cell_type": "code",
   "execution_count": null,
   "metadata": {},
   "outputs": [],
   "source": [
    "#isinstance(s1, str)\n",
    "#if type(s1) == str\n",
    "\n",
    "#print ( 'The data file is ' + 5 + ' MB large') -- produces error\n",
    "print ( 'The data file is ' + str(5) + ' MB large')\n",
    "\n",
    "\n",
    "print ( '\\nresult of intern experiment:')\n",
    "# intern stores string \"internally\" and returns the same object for the same string\n",
    "stringA = sys.intern('myString'*1000)\n",
    "stringB = sys.intern('myString'*1000)\n",
    "\n",
    "print(stringA is stringB)\n",
    "\n",
    "# without intern, two different objects are created, even if they have the same underlying value\n",
    "stringC = 'myNewString'*1000\n",
    "stringD = 'myNewString'*1000\n",
    "\n",
    "print(stringD is stringC)\n",
    "\n",
    "\n",
    "#user_input = input(\"Enter a message... \")\n",
    "#print('User entered: ' + user_input)"
   ]
  }
 ],
 "metadata": {
  "kernelspec": {
   "display_name": "testenv",
   "language": "python",
   "name": "python3"
  },
  "language_info": {
   "codemirror_mode": {
    "name": "ipython",
    "version": 3
   },
   "file_extension": ".py",
   "mimetype": "text/x-python",
   "name": "python",
   "nbconvert_exporter": "python",
   "pygments_lexer": "ipython3",
   "version": "3.12.7"
  }
 },
 "nbformat": 4,
 "nbformat_minor": 2
}
