{
 "cells": [
  {
   "cell_type": "markdown",
   "metadata": {},
   "source": [
    "## 2.1 Functions in python\n",
    "Functions are the core of programming workflows in python"
   ]
  },
  {
   "cell_type": "code",
   "execution_count": 5,
   "metadata": {},
   "outputs": [],
   "source": [
    "def my_function(string): #functions are defined with or without keywords and with or without return statements\n",
    "    print(string) #whatever is supposed to be done is but below in the typical python indentation\n",
    "    "
   ]
  },
  {
   "cell_type": "code",
   "execution_count": 6,
   "metadata": {},
   "outputs": [
    {
     "name": "stdout",
     "output_type": "stream",
     "text": [
      "hello\n"
     ]
    }
   ],
   "source": [
    "my_function('hello') #functions are called with name(keywords)"
   ]
  },
  {
   "cell_type": "code",
   "execution_count": 19,
   "metadata": {},
   "outputs": [],
   "source": [
    "def polynomial(x, a, b, c, d): # for numerical python the convention is array then parameters\n",
    "    return a**3*x+b**2*x+c*x+d # a return statement can contain every possible python object. even multiple ones"
   ]
  },
  {
   "cell_type": "markdown",
   "metadata": {},
   "source": [
    "## 2.1.1 Importing first packages and using them in a calculation"
   ]
  },
  {
   "cell_type": "code",
   "execution_count": 20,
   "metadata": {},
   "outputs": [],
   "source": [
    "import numpy as np #imports numpy, a numerical python package, to use predefined objects for calculations\n",
    "xx = np.linspace(0,9,20) #this creates an array of 20 numbers evenly (linearly) spaced between 0 and 9\n",
    "result = polynomial(xx, 1,1,1,1) #functions can operate on np.linspace objects"
   ]
  },
  {
   "cell_type": "code",
   "execution_count": 21,
   "metadata": {},
   "outputs": [
    {
     "name": "stdout",
     "output_type": "stream",
     "text": [
      "[ 1.          2.42105263  3.84210526  5.26315789  6.68421053  8.10526316\n",
      "  9.52631579 10.94736842 12.36842105 13.78947368 15.21052632 16.63157895\n",
      " 18.05263158 19.47368421 20.89473684 22.31578947 23.73684211 25.15789474\n",
      " 26.57894737 28.        ]\n"
     ]
    }
   ],
   "source": [
    "print(result) #this is the result of the calculation"
   ]
  },
  {
   "cell_type": "markdown",
   "metadata": {},
   "source": [
    "## 2.1.2 Unpacking parameters"
   ]
  },
  {
   "cell_type": "code",
   "execution_count": 32,
   "metadata": {
    "scrolled": true
   },
   "outputs": [],
   "source": [
    "params = {'a':1, 'b':1, 'c':1, 'd':1} #dictionary of parameters a list also works, but order is important when only passing a list\n",
    "params2 = {'a':1, 'd':1, 'c':1, 'b':1}\n",
    "res1 = polynomial(x=xx, **params) #this unpacks the values from the dictionary into the function call unpacking is a powerful tool\n",
    "res2 = polynomial(x=xx, **params2) #the order of the parameters inside is not important when passing a dictionary"
   ]
  },
  {
   "cell_type": "code",
   "execution_count": 31,
   "metadata": {},
   "outputs": [
    {
     "name": "stdout",
     "output_type": "stream",
     "text": [
      "[ 1.          2.42105263  3.84210526  5.26315789  6.68421053  8.10526316\n",
      "  9.52631579 10.94736842 12.36842105 13.78947368 15.21052632 16.63157895\n",
      " 18.05263158 19.47368421 20.89473684 22.31578947 23.73684211 25.15789474\n",
      " 26.57894737 28.        ]\n",
      "[ 2.          2.94736842  3.89473684  4.84210526  5.78947368  6.73684211\n",
      "  7.68421053  8.63157895  9.57894737 10.52631579 11.47368421 12.42105263\n",
      " 13.36842105 14.31578947 15.26315789 16.21052632 17.15789474 18.10526316\n",
      " 19.05263158 20.        ]\n"
     ]
    }
   ],
   "source": [
    "print(res1)\n",
    "print(res2) "
   ]
  },
  {
   "cell_type": "markdown",
   "metadata": {},
   "source": [
    "## 2.2 Recursive functions"
   ]
  },
  {
   "cell_type": "code",
   "execution_count": 37,
   "metadata": {},
   "outputs": [],
   "source": [
    "#Recursive funtions can be used analogously to other programming languages\n",
    "def recur_fibo(n): #this gives the nth element of the fibonacci sequence\n",
    "    if n <= 1:\n",
    "        return n\n",
    "    else:\n",
    "        return(recur_fibo(n-1) + recur_fibo(n-2))"
   ]
  },
  {
   "cell_type": "code",
   "execution_count": 38,
   "metadata": {},
   "outputs": [
    {
     "name": "stdout",
     "output_type": "stream",
     "text": [
      "34\n"
     ]
    }
   ],
   "source": [
    "fib = recur_fibo(9)\n",
    "print(fib)"
   ]
  },
  {
   "cell_type": "markdown",
   "metadata": {},
   "source": [
    "## Dynamic programming in Python\n",
    "The elements of a list are dynamically accessible while python interprets the code. This can be used to append to lists and manipulate values.\n",
    "### Task 2.2.1\n",
    "write a function that creates a list of the Fibonacci numbers up to n"
   ]
  },
  {
   "cell_type": "code",
   "execution_count": 96,
   "metadata": {},
   "outputs": [],
   "source": [
    "#This is dynamic programming (commonly used in python)\n",
    "def list_fib(n):\n",
    "    result = [0, 1]\n",
    "    if n==1:\n",
    "        return [0]\n",
    "    if n==2:\n",
    "        return result\n",
    "    else:\n",
    "        for i in range(2,n): #starting from 2 since the first 2 numbers have to be seeded\n",
    "            result.append(result[i-1]+result[i-2]) #access the last 2 elements and add them. then append them to the list\n",
    "    return result"
   ]
  },
  {
   "cell_type": "code",
   "execution_count": 97,
   "metadata": {},
   "outputs": [
    {
     "data": {
      "text/plain": [
       "[0, 1, 1, 2, 3, 5, 8, 13, 21, 34]"
      ]
     },
     "execution_count": 97,
     "metadata": {},
     "output_type": "execute_result"
    }
   ],
   "source": [
    "list_fib(10)"
   ]
  },
  {
   "cell_type": "markdown",
   "metadata": {},
   "source": [
    "## Functional programming with a list comprehension\n",
    "we will be discussing this in detail later"
   ]
  },
  {
   "cell_type": "code",
   "execution_count": 106,
   "metadata": {},
   "outputs": [
    {
     "name": "stdout",
     "output_type": "stream",
     "text": [
      "[0, 1, 1, 2, 3, 5, 8, 13, 21, 34]\n"
     ]
    }
   ],
   "source": [
    "fib = [0,1] #seednumbers\n",
    "[fib.append(fib[-1]+fib[-2]) for ctr in range(2,10)] #list comprehension because we can\n",
    "print(fib)"
   ]
  },
  {
   "cell_type": "code",
   "execution_count": 112,
   "metadata": {},
   "outputs": [
    {
     "name": "stdout",
     "output_type": "stream",
     "text": [
      "6\n"
     ]
    }
   ],
   "source": [
    "fact = lambda x: 1 if x == 0 else x * fact(x-1)\n",
    "print(fact(3))"
   ]
  },
  {
   "cell_type": "code",
   "execution_count": 127,
   "metadata": {},
   "outputs": [],
   "source": [
    "test = np.linspace(0,10)\n",
    "test_map = map(lambda x: x**2, test)"
   ]
  },
  {
   "cell_type": "code",
   "execution_count": 130,
   "metadata": {},
   "outputs": [
    {
     "name": "stdout",
     "output_type": "stream",
     "text": [
      "[ 0.          0.20408163  0.40816327  0.6122449   0.81632653  1.02040816\n",
      "  1.2244898   1.42857143  1.63265306  1.83673469  2.04081633  2.24489796\n",
      "  2.44897959  2.65306122  2.85714286  3.06122449  3.26530612  3.46938776\n",
      "  3.67346939  3.87755102  4.08163265  4.28571429  4.48979592  4.69387755\n",
      "  4.89795918  5.10204082  5.30612245  5.51020408  5.71428571  5.91836735\n",
      "  6.12244898  6.32653061  6.53061224  6.73469388  6.93877551  7.14285714\n",
      "  7.34693878  7.55102041  7.75510204  7.95918367  8.16326531  8.36734694\n",
      "  8.57142857  8.7755102   8.97959184  9.18367347  9.3877551   9.59183673\n",
      "  9.79591837 10.        ]\n",
      "[0.0, 0.04164931278633903, 0.16659725114535612, 0.3748438150770512, 0.6663890045814245, 1.0412328196584757, 1.499375260308205, 2.0408163265306123, 2.665556018325698, 3.3735943356934612, 4.164931278633903, 5.039566847147023, 5.99750104123282, 7.038733860891295, 8.16326530612245, 9.371095376926283, 10.662224073302792, 12.036651395251978, 13.494377342773845, 15.035401915868391, 16.65972511453561, 18.36734693877551, 20.158267388588094, 22.03248646397335, 23.99000416493128, 26.03082049146189, 28.15493544356518, 30.362349021241155, 32.6530612244898, 35.027072053311116, 37.48438150770513, 40.02498958767181, 42.648896293211166, 45.356101624323195, 48.14660558100791, 51.02040816326531, 53.97750937109538, 57.017909204498125, 60.141607663473565, 63.348604748021664, 66.63890045814244, 70.0124947938359, 73.46938775510203, 77.00957934194085, 80.63306955435237, 84.33985839233654, 88.1299458558934, 92.00333194502292, 95.96001665972511, 100.0]\n"
     ]
    }
   ],
   "source": [
    "print(test)\n",
    "print(list(test_map))"
   ]
  },
  {
   "cell_type": "code",
   "execution_count": null,
   "metadata": {},
   "outputs": [],
   "source": []
  }
 ],
 "metadata": {
  "kernelspec": {
   "display_name": "Python 3",
   "language": "python",
   "name": "python3"
  },
  "language_info": {
   "codemirror_mode": {
    "name": "ipython",
    "version": 3
   },
   "file_extension": ".py",
   "mimetype": "text/x-python",
   "name": "python",
   "nbconvert_exporter": "python",
   "pygments_lexer": "ipython3",
   "version": "3.7.5"
  }
 },
 "nbformat": 4,
 "nbformat_minor": 2
}
