{
 "cells": [
  {
   "cell_type": "markdown",
   "metadata": {},
   "source": [
    "# Control flow in Python\n"
   ]
  },
  {
   "cell_type": "markdown",
   "metadata": {},
   "source": [
    "Controlling which statements are executed under which condition and in which order is important. Let's start with the basic structures."
   ]
  },
  {
   "cell_type": "code",
   "execution_count": null,
   "metadata": {},
   "outputs": [],
   "source": [
    "var = 1\n",
    "if var == 1:\n",
    "    print ('value is: ' + str(1))\n",
    "else:\n",
    "    print('value is: ' + str(var))"
   ]
  },
  {
   "cell_type": "markdown",
   "metadata": {},
   "source": [
    "__Indentation depth:__ Whenever we need to indent code, pay attention, at which level within the indentation hierarchy the code needs to be placed. E.g.:"
   ]
  },
  {
   "cell_type": "code",
   "execution_count": null,
   "metadata": {},
   "outputs": [],
   "source": [
    "another_var = 2\n",
    "if var == 1:\n",
    "    print ('first level of indentation -- var is 1')\n",
    "    if another_var == 2:\n",
    "        print('second level of indentation')\n",
    "        \n",
    "elif var == 3:\n",
    "    print('first level of indentation -- var is 3')        \n",
    "else:\n",
    "    print('first level of indentation -- var is not 1')"
   ]
  },
  {
   "cell_type": "markdown",
   "metadata": {},
   "source": [
    "## Iteration"
   ]
  },
  {
   "cell_type": "code",
   "execution_count": null,
   "metadata": {},
   "outputs": [],
   "source": [
    "index = range(20)\n",
    "print(index)\n",
    "print(type(index))"
   ]
  },
  {
   "cell_type": "code",
   "execution_count": null,
   "metadata": {},
   "outputs": [],
   "source": [
    "for i in index:#iterate over an index\n",
    "    print(i)"
   ]
  },
  {
   "cell_type": "code",
   "execution_count": null,
   "metadata": {},
   "outputs": [],
   "source": [
    "l = list(index)#typecast\n",
    "print(l)\n",
    "print(type(l))"
   ]
  },
  {
   "cell_type": "code",
   "execution_count": null,
   "metadata": {},
   "outputs": [],
   "source": [
    "for i in l:#basically the same as iterating over an index\n",
    "    print(i)"
   ]
  },
  {
   "cell_type": "code",
   "execution_count": null,
   "metadata": {},
   "outputs": [],
   "source": [
    "another_list = ['this', 'is', 'a', 'list', 'of', 'strings']"
   ]
  },
  {
   "cell_type": "code",
   "execution_count": null,
   "metadata": {},
   "outputs": [],
   "source": [
    "for element in another_list:#iterating over the elements of a list\n",
    "    print(element)"
   ]
  },
  {
   "cell_type": "markdown",
   "metadata": {},
   "source": [
    "## Using while/break/continue"
   ]
  },
  {
   "cell_type": "code",
   "execution_count": null,
   "metadata": {},
   "outputs": [],
   "source": [
    "another_list = ['this', 'is', 'a', 'list', 'of', 'strings']\n",
    "string = ''\n",
    "print(another_list)\n",
    "while len(another_list) != 0:\n",
    "    string += another_list.pop(0)\n",
    "    string += ' '\n",
    "print (string)"
   ]
  },
  {
   "cell_type": "code",
   "execution_count": null,
   "metadata": {},
   "outputs": [],
   "source": [
    "#is there a difference to the cell above?\n",
    "another_list = ['this', 'is', 'a', 'list', 'of', 'strings']\n",
    "string = ''\n",
    "print(another_list)\n",
    "while len(another_list):\n",
    "    string += another_list.pop(0)\n",
    "    string += ' '\n",
    "    if len(another_list) == 0:\n",
    "        break\n",
    "print (string)"
   ]
  },
  {
   "cell_type": "code",
   "execution_count": null,
   "metadata": {},
   "outputs": [],
   "source": [
    "#continue works, as you know it from other programming languages\n",
    "another_list = ['this', 'is', 'a', 'list', 'of', 'strings']\n",
    "string = ''\n",
    "print(another_list)\n",
    "while len(another_list) != 0:\n",
    "    if(another_list[0] == 'a'):\n",
    "        another_list.pop(0)\n",
    "        continue\n",
    "    string += another_list.pop(0)\n",
    "    string += ' '\n",
    "print (string)"
   ]
  },
  {
   "cell_type": "code",
   "execution_count": null,
   "metadata": {},
   "outputs": [],
   "source": []
  }
 ],
 "metadata": {
  "kernelspec": {
   "display_name": "Python 3",
   "language": "python",
   "name": "python3"
  },
  "language_info": {
   "codemirror_mode": {
    "name": "ipython",
    "version": 3
   },
   "file_extension": ".py",
   "mimetype": "text/x-python",
   "name": "python",
   "nbconvert_exporter": "python",
   "pygments_lexer": "ipython3",
   "version": "3.6.8"
  }
 },
 "nbformat": 4,
 "nbformat_minor": 2
}
