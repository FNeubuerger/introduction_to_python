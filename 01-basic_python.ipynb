{
 "cells": [
  {
   "cell_type": "markdown",
   "metadata": {},
   "source": [
    "# A Basic Introduction to Python for Data Science\n",
    "\n",
    "## Why Python?\n",
    "<ol>\n",
    "    <li>Python has many implemented packages for Data Science use cases\n",
    "    <li>Python is easy to read\n",
    "    <li>Python packages are mostly well documented\n",
    "    <li>Python is used by a huge community\n",
    "    <li>Answers to problems can often be found online"
   ]
  },
  {
   "cell_type": "markdown",
   "metadata": {},
   "source": [
    "## Where do we start?\n",
    "<ol>\n",
    "    <li>Basic functions of Python\n",
    "    <li>Functional Programming\n",
    "    <li>Object Oriented Programming\n",
    "    <li>Plotting and Visualization\n",
    "    <li>Scientific Python\n",
    "    <li>Python for Data Analysis\n"
   ]
  },
  {
   "cell_type": "markdown",
   "metadata": {},
   "source": [
    "## 1. Basic functions of Python\n",
    "<ol>\n",
    "    <li> Data types\n",
    "    <li> Defining variables\n",
    "    <li> Printing\n",
    "    <li> Control Statements\n",
    "    <li> Loops\n",
    "    <li> Operations"
   ]
  },
  {
   "cell_type": "markdown",
   "metadata": {},
   "source": [
    "### 1.1 Basic data types\n",
    "Python handles most things as Objects with certain properties.\n",
    "<ol>\n",
    "    <li> Integers\n",
    "    <li> Floating-Point Numbers\n",
    "    <li> Complex Numbers\n",
    "    <li> Strings\n",
    "    <li> Boolean Type\n",
    "    <li> Lists\n",
    "    <li> Dictionary"
   ]
  },
  {
   "cell_type": "markdown",
   "metadata": {},
   "source": [
    "### 1.2 Variables\n",
    "Let's create some variables to do stuff with"
   ]
  },
  {
   "cell_type": "code",
   "execution_count": 13,
   "metadata": {},
   "outputs": [],
   "source": [
    "a = int #This defines a variable \"a\" to be an object of type integer\n",
    "b = 9 #we can also just give variables values\n",
    "c = 4.2 #lets try floating point numbers\n",
    "d = 2+3j #this defines a complex number\n",
    "e = 'this is a string'\n",
    "f = \"this is also a string\"\n",
    "g = '' #this is an empty string\n",
    "h = True #this defines a Boolean type variable with the value True\n",
    "i = False\n",
    "j = [1,2,True,False,'string'] #this creates a list with things\n",
    "k = {'Element 1': 1, 'Element 2': 2} # this creates a dictionary"
   ]
  },
  {
   "cell_type": "markdown",
   "metadata": {},
   "source": [
    "## 1.3 Printing\n",
    "Printing is a valuable function to have"
   ]
  },
  {
   "cell_type": "code",
   "execution_count": 35,
   "metadata": {},
   "outputs": [
    {
     "name": "stdout",
     "output_type": "stream",
     "text": [
      "Hello World\n",
      "<class 'int'>\n",
      "<class 'float'>\n",
      "(2+3j)\n",
      "this is a string\n",
      "dict_keys(['Element 1', 'Element 2'])\n",
      "1\n",
      "We can also write some text and put our variables into it.\n",
      " For example we can print our variable b = 9, and our variable c=4.2 \n",
      " right into the console\n"
     ]
    }
   ],
   "source": [
    "print('Hello World') # we can print strings directly\n",
    "print(a) #or we can print variables\n",
    "print(type(c)) #we can check types with the built in function type(...)\n",
    "print(d)\n",
    "print(e)\n",
    "print(k.keys()) \n",
    "print(k['Element 1']) #we can access values of a dictionary like this\n",
    "\n",
    "print('We can also write some text and put our variables into it.\\n For example we can print our variable b = {}, and our variable c={} \\n right into the console'.format(b,c))"
   ]
  },
  {
   "cell_type": "markdown",
   "metadata": {},
   "source": [
    "## 1.4 Control statements\n",
    "To tell a program what to do we need control statements"
   ]
  },
  {
   "cell_type": "code",
   "execution_count": 40,
   "metadata": {},
   "outputs": [
    {
     "name": "stdout",
     "output_type": "stream",
     "text": [
      "b is of type <class 'str'> with the value b\n"
     ]
    }
   ],
   "source": [
    "b = 'b'\n",
    "if type(b) == int: #the basic syntax for control statements\n",
    "    print('b is an {} of value: {}'.format(type(b),b))\n",
    "else:\n",
    "    print('b is of type {} with the value {}'.format(type(b), b))"
   ]
  },
  {
   "cell_type": "code",
   "execution_count": 41,
   "metadata": {},
   "outputs": [
    {
     "name": "stdout",
     "output_type": "stream",
     "text": [
      "8 is larger or equal to 7\n"
     ]
    }
   ],
   "source": [
    "number = 8\n",
    "threshold = 7\n",
    "if number >= threshold:\n",
    "    print('{} is larger or equal to {}'.format(number,threshold))"
   ]
  },
  {
   "cell_type": "code",
   "execution_count": null,
   "metadata": {},
   "outputs": [],
   "source": []
  }
 ],
 "metadata": {
  "kernelspec": {
   "display_name": "Python 3",
   "language": "python",
   "name": "python3"
  },
  "language_info": {
   "codemirror_mode": {
    "name": "ipython",
    "version": 3
   },
   "file_extension": ".py",
   "mimetype": "text/x-python",
   "name": "python",
   "nbconvert_exporter": "python",
   "pygments_lexer": "ipython3",
   "version": "3.7.3"
  }
 },
 "nbformat": 4,
 "nbformat_minor": 2
}
