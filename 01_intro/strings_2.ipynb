{
 "cells": [
  {
   "cell_type": "markdown",
   "metadata": {},
   "source": [
    "# Mutability in python"
   ]
  },
  {
   "cell_type": "code",
   "execution_count": 33,
   "metadata": {},
   "outputs": [
    {
     "name": "stdout",
     "output_type": "stream",
     "text": [
      "True\n",
      "True\n",
      "5\n",
      "True\n",
      "False\n"
     ]
    }
   ],
   "source": [
    "stringA = 'abc'\n",
    "stringB = 'abcde'\n",
    "stringC = 'abd'\n",
    "\n",
    "print(stringA <= stringB)\n",
    "print(stringA <= stringC)\n",
    "print(len(stringB))\n",
    "\n",
    "print(stringA == stringB[:-2])\n",
    "print(stringA is stringB[:-2])"
   ]
  },
  {
   "cell_type": "code",
   "execution_count": 32,
   "metadata": {},
   "outputs": [
    {
     "name": "stdout",
     "output_type": "stream",
     "text": [
      "abcdefghijkl\n",
      "acegik\n",
      "9162016\n"
     ]
    }
   ],
   "source": [
    "stringC = 'abcdefghijkl'\n",
    "print(stringC[::])\n",
    "print(stringC[::2])\n",
    "\n",
    "#stringA[0] = 'A' --> this leads to an error\n",
    "print(id(stringA))"
   ]
  },
  {
   "cell_type": "markdown",
   "metadata": {},
   "source": [
    "## Identity examples"
   ]
  },
  {
   "cell_type": "markdown",
   "metadata": {},
   "source": [
    "### float"
   ]
  },
  {
   "cell_type": "code",
   "execution_count": null,
   "metadata": {},
   "outputs": [],
   "source": [
    "print('\\nidentity example')\n",
    "f = 7\n",
    "print(id(f))\n",
    "f = 8\n",
    "print(id(f))\n",
    "\n",
    "\n",
    "#immutable objects\n",
    "\n",
    "print('\\nimmutable objects:')\n",
    "s1 = 'this '\n",
    "s2 = s1\n",
    "\n",
    "print(s2 is s1)\n",
    "print(id(s1))\n",
    "print(id(s2))\n",
    "\n",
    "s1 += 'is Python'\n",
    "\n",
    "print('\\nafter change')\n",
    "print(s1)\n",
    "print(s2)\n",
    "print(s2 is s1)\n",
    "print(id(s1))\n",
    "print(id(s2))\n",
    "\n",
    "\n",
    "#changing values in containers\n",
    "\n",
    "print('\\ncontainer example')\n",
    "data = [1,2,3,4,5]\n",
    "tup = ('someString', data)\n",
    "\n",
    "print(data)\n",
    "print(id(tup))\n",
    "\n",
    "data[3] = 'change'\n",
    "\n",
    "print(data)\n",
    "print(id(tup))\n",
    "\n",
    "#special case - updating values of immutable objects in an immutable container\n",
    "\n",
    "print('\\nspecial case\\n')\n",
    "str1 = 'myString'\n",
    "int1 = 25\n",
    "tup1 = ('a','b','c')\n",
    "tup2 = (str1, int1, tup1)\n",
    "\n",
    "print('id str1:' + str(id(str1)))\n",
    "print('id int1:' + str(id(int1)))\n",
    "print('id tup1:' + str(id(tup1)))\n",
    "print(tup2)\n",
    "print('id tup2:' + str(id(tup2)))\n",
    "\n",
    "\n",
    "str1 += ' has changed'\n",
    "int1 = 500\n",
    "tup1 += ('d', 'e')\n",
    "\n",
    "print('\\nafter change:\\n')\n",
    "\n",
    "print('id str1:' + str(id(str1)))\n",
    "print('id int1:' + str(id(int1)))\n",
    "print('id tup1:' + str(id(tup1)))\n",
    "print(tup2)\n",
    "print('id tup2:' + str(id(tup2)))"
   ]
  },
  {
   "cell_type": "markdown",
   "metadata": {},
   "source": [
    "### string"
   ]
  },
  {
   "cell_type": "code",
   "execution_count": 8,
   "metadata": {},
   "outputs": [
    {
     "name": "stdout",
     "output_type": "stream",
     "text": [
      "9804760\n",
      "140325440308400\n",
      "data science\n"
     ]
    }
   ],
   "source": [
    "d1 =  'data'\n",
    "print(id(d1))\n",
    "d1 += ' science'\n",
    "print(id(d1))\n",
    "\n",
    "print(d1)"
   ]
  },
  {
   "cell_type": "markdown",
   "metadata": {},
   "source": [
    "### list\n",
    "lists are mutable object, so they are changed in place (id stays the same after change if not explicitly copied)"
   ]
  },
  {
   "cell_type": "code",
   "execution_count": 20,
   "metadata": {},
   "outputs": [
    {
     "name": "stdout",
     "output_type": "stream",
     "text": [
      "140325440308400\n",
      "140325440308400\n",
      "[1, 2, 3, 4, 5, 6]\n",
      "\n",
      "list example:\n",
      "[1, 2, 3, 4, 5]\n",
      "[1, 2, 3, 4, 5]\n",
      "140325440801344\n",
      "140325440801344\n",
      "\n",
      "list example with deepcopy:\n",
      "[1, 2, 3, 4, 5]\n",
      "[1, 2, 3, 4, 5, 4, 5]\n",
      "140325440801344\n",
      "140325440801088\n"
     ]
    }
   ],
   "source": [
    "l1 = [1,2,3]\n",
    "print(id(d1))\n",
    "l1 += [4,5,6]\n",
    "print(id(d1))\n",
    "print (l1)\n",
    "\n",
    "print(\"\\nlist example:\")\n",
    "\n",
    "l2 = [1,2,3]\n",
    "l3 = l2\n",
    "\n",
    "l3 += [4,5]\n",
    "print(l2)\n",
    "print(l3)\n",
    "\n",
    "print(id(l2))\n",
    "print(id(l3))\n",
    "\n",
    "\n",
    "# with deepcopy\n",
    "print(\"\\nlist example with deepcopy:\")\n",
    "l3 = l2.copy()\n",
    "l3 += [4,5]\n",
    "\n",
    "print(l2)\n",
    "print(l3)\n",
    "\n",
    "print(id(l2))\n",
    "print(id(l3))"
   ]
  },
  {
   "cell_type": "markdown",
   "metadata": {},
   "source": [
    "## Immutable objects"
   ]
  },
  {
   "cell_type": "markdown",
   "metadata": {},
   "source": [
    "### Strings"
   ]
  },
  {
   "cell_type": "code",
   "execution_count": 23,
   "metadata": {},
   "outputs": [
    {
     "name": "stdout",
     "output_type": "stream",
     "text": [
      "True\n",
      "140325440241360\n",
      "140325440241360\n",
      "\n",
      "after change:\n",
      "this is Python\n",
      "this \n",
      "False\n",
      "140325440732208\n",
      "140325440241360\n"
     ]
    }
   ],
   "source": [
    "s1 = 'this '\n",
    "s2 = s1\n",
    "\n",
    "print(s2 is s1)\n",
    "print(id(s1))\n",
    "print(id(s2))\n",
    "\n",
    "s1 += 'is Python'\n",
    "\n",
    "print('\\nafter change:')\n",
    "print(s1)\n",
    "print(s2)\n",
    "print(s2 is s1)\n",
    "print(id(s1))\n",
    "print(id(s2))"
   ]
  },
  {
   "cell_type": "markdown",
   "metadata": {},
   "source": [
    "### Numbers"
   ]
  },
  {
   "cell_type": "code",
   "execution_count": 29,
   "metadata": {},
   "outputs": [
    {
     "name": "stdout",
     "output_type": "stream",
     "text": [
      "floats:\n",
      "140325464985040\n",
      "140325464984656\n",
      "\n",
      "integers:\n",
      "9766888\n",
      "9766920\n"
     ]
    }
   ],
   "source": [
    "print(\"floats:\")\n",
    "f1 = 5.0\n",
    "print(id(f1))\n",
    "\n",
    "f1 += 1.0\n",
    "print(id(f1))\n",
    "\n",
    "print(\"\\nintegers:\")\n",
    "i1 = 5\n",
    "print(id(i1))\n",
    "i1 += 1\n",
    "print(id(i1))"
   ]
  },
  {
   "cell_type": "markdown",
   "metadata": {},
   "source": [
    "### Containers"
   ]
  },
  {
   "cell_type": "markdown",
   "metadata": {},
   "source": [
    "#### lists"
   ]
  },
  {
   "cell_type": "code",
   "execution_count": 40,
   "metadata": {},
   "outputs": [
    {
     "name": "stdout",
     "output_type": "stream",
     "text": [
      "[1, 2, 3, 4, 5]\n",
      "140325440994432\n",
      "[1, 2, 3, 'change', 5]\n",
      "140325440994432\n"
     ]
    }
   ],
   "source": [
    "#changing values in containers\n",
    "data = [1,2,3,4,5]\n",
    "\n",
    "print(data)\n",
    "print(id(data))\n",
    "\n",
    "data[3] = 'change'\n",
    "\n",
    "print(data)\n",
    "print(id(data))\n"
   ]
  },
  {
   "cell_type": "markdown",
   "metadata": {},
   "source": [
    "#### tuples"
   ]
  },
  {
   "cell_type": "code",
   "execution_count": 39,
   "metadata": {},
   "outputs": [
    {
     "name": "stdout",
     "output_type": "stream",
     "text": [
      "140325307812032\n",
      "140325307812160\n",
      "'tuple' object does not support item assignment\n"
     ]
    }
   ],
   "source": [
    "tup = ('someString', data)\n",
    "\n",
    "print(id(tup))\n",
    "tup = (\"changedString\", data)\n",
    "print(id(tup))\n",
    "\n",
    "try:\n",
    "    tup[1] = 'change'\n",
    "    print(tup)\n",
    "except TypeError as e:\n",
    "    print(e)"
   ]
  },
  {
   "cell_type": "markdown",
   "metadata": {},
   "source": [
    "#### Change mutable object in immutable container"
   ]
  },
  {
   "cell_type": "code",
   "execution_count": 42,
   "metadata": {},
   "outputs": [
    {
     "name": "stdout",
     "output_type": "stream",
     "text": [
      "140325440156416\n",
      "[1, 2, 3, 'changed again', 5]\n",
      "140325440156416\n"
     ]
    }
   ],
   "source": [
    "tup = ('someString', data)\n",
    "print(id(tup))\n",
    "\n",
    "data[3] = 'changed again'\n",
    "print(data)\n",
    "print(id(tup))\n",
    "\n",
    "# pointer inside of tuple is not changed, only the value of the list (which is mutable) is changed while the pointer (memory address) to the list is not changed."
   ]
  },
  {
   "cell_type": "markdown",
   "metadata": {},
   "source": [
    "#### Update value of immutable objects in immutable containers"
   ]
  },
  {
   "cell_type": "code",
   "execution_count": 45,
   "metadata": {},
   "outputs": [
    {
     "name": "stdout",
     "output_type": "stream",
     "text": [
      "\n",
      "special case\n",
      "\n",
      "id str1:140325440307248\n",
      "id int1:9767528\n",
      "id tup1:140325307825024\n",
      "('myString', 25, ('a', 'b', 'c'))\n",
      "id tup2:140325440858560\n",
      "\n",
      "after change:\n",
      "\n",
      "id str1:140325440848496\n",
      "id int1:140325309500848\n",
      "id tup1:140325441991552\n",
      "('myString', 25, ('a', 'b', 'c'))\n",
      "id tup2:140325440858560\n"
     ]
    }
   ],
   "source": [
    "print('\\nspecial case\\n')\n",
    "str1 = 'myString'\n",
    "int1 = 25\n",
    "tup1 = ('a','b','c')\n",
    "tup2 = (str1, int1, tup1)\n",
    "\n",
    "print('id str1:' + str(id(str1)))\n",
    "print('id int1:' + str(id(int1)))\n",
    "print('id tup1:' + str(id(tup1)))\n",
    "print(tup2)\n",
    "print('id tup2:' + str(id(tup2)))\n",
    "\n",
    "\n",
    "str1 += ' has changed'\n",
    "int1 = 500\n",
    "tup1 += ('d', 'e')\n",
    "\n",
    "print('\\nafter change:\\n')\n",
    "\n",
    "print('id str1:' + str(id(str1)))\n",
    "print('id int1:' + str(id(int1)))\n",
    "print('id tup1:' + str(id(tup1)))\n",
    "print(tup2)\n",
    "print('id tup2:' + str(id(tup2)))\n",
    "\n",
    "# Due to the immutability of the tuple, the memory address of the tuple is changed when the tuple is changed. The memory address of the string and integer is changed as well (immutability) when the value of the string and integer is changed.\n",
    "# The id and content of tuple 'tup2' does not change when the values of the tuple 'tup1', 'str1' or 'int1' are changed as these are immutable\n",
    "# objects and thus new memory addresses are assigned to the changed objects, while the old memory addresses are still assigned to the unchanged objects."
   ]
  }
 ],
 "metadata": {
  "kernelspec": {
   "display_name": "testenv",
   "language": "python",
   "name": "python3"
  },
  "language_info": {
   "codemirror_mode": {
    "name": "ipython",
    "version": 3
   },
   "file_extension": ".py",
   "mimetype": "text/x-python",
   "name": "python",
   "nbconvert_exporter": "python",
   "pygments_lexer": "ipython3",
   "version": "3.12.7"
  }
 },
 "nbformat": 4,
 "nbformat_minor": 2
}
