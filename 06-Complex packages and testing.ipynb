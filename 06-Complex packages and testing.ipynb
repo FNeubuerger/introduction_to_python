{
 "cells": [
  {
   "cell_type": "markdown",
   "metadata": {},
   "source": [
    "# Complex packages and testing\n",
    "\n",
    "In this notebook we will learn how to write more complex packages. We will use the blueprint of our already started first package. We will write simple tests to ensure code quality and verify our algorithms."
   ]
  },
  {
   "cell_type": "markdown",
   "metadata": {},
   "source": [
    "## Exercise 6.1\n",
    "\n",
    "This Package is supposed to make your life as a Data Scientist easier. There might be already programmed packages for these tasks already, but for the sake of practice and customizability we are going to write our own toolkit for our custom analysis.\n",
    "\n",
    "In the later stages of the exercises we will come back to a some functions and methods to speed them up or make them more readable.\n",
    "\n",
    "Let us start with a basic thing we will always need.\n",
    "Data Visualization"
   ]
  },
  {
   "cell_type": "code",
   "execution_count": null,
   "metadata": {},
   "outputs": [],
   "source": []
  }
 ],
 "metadata": {
  "kernelspec": {
   "display_name": "Python 3",
   "language": "python",
   "name": "python3"
  },
  "language_info": {
   "codemirror_mode": {
    "name": "ipython",
    "version": 3
   },
   "file_extension": ".py",
   "mimetype": "text/x-python",
   "name": "python",
   "nbconvert_exporter": "python",
   "pygments_lexer": "ipython3",
   "version": "3.7.3"
  }
 },
 "nbformat": 4,
 "nbformat_minor": 2
}
