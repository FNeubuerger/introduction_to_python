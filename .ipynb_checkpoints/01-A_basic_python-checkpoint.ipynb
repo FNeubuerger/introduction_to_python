{
 "cells": [
  {
   "cell_type": "markdown",
   "metadata": {},
   "source": [
    "# A Basic Introduction to Python for Data Science\n",
    "\n",
    "## Why Python?\n",
    "<ol>\n",
    "    <li>Python has many implemented packages for Data Science use cases\n",
    "    <li>Python is easy to read\n",
    "    <li>Python packages are mostly well documented\n",
    "    <li>Python is used by a huge community\n",
    "    <li>Answers to problems can often be found online"
   ]
  },
  {
   "cell_type": "markdown",
   "metadata": {},
   "source": [
    "## Where do we start?\n",
    "<ol>\n",
    "    <li>Basic functions of Python\n",
    "    <li>Functional Programming\n",
    "    <li>Object Oriented Programming\n",
    "    <li>Plotting and Visualization\n",
    "    <li>Scientific Python\n",
    "    <li>Python for Data Analysis\n"
   ]
  },
  {
   "cell_type": "markdown",
   "metadata": {},
   "source": [
    "## 1. Basic functions of Python\n",
    "<ol>\n",
    "    <li> Data types\n",
    "    <li> Defining variables\n",
    "    <li> Printing\n",
    "    <li> Control Statements\n",
    "    <li> Loops\n",
    "    <li> Operations"
   ]
  },
  {
   "cell_type": "markdown",
   "metadata": {},
   "source": [
    "### 1.1 Basic data types\n",
    "Python handles most things as Objects with certain properties.\n",
    "<ol>\n",
    "    <li> Integers\n",
    "    <li> Floating-Point Numbers\n",
    "    <li> Complex Numbers\n",
    "    <li> Strings\n",
    "    <li> Boolean Type\n",
    "    <li> Lists\n",
    "    <li> Dictionary"
   ]
  },
  {
   "cell_type": "markdown",
   "metadata": {},
   "source": [
    "### 1.2 Variables\n",
    "Let's create some variables to do stuff with"
   ]
  },
  {
   "cell_type": "code",
   "execution_count": null,
   "metadata": {},
   "outputs": [],
   "source": [
    "a = int #This defines a variable \"a\" to be an object of type integer\n",
    "b = 9 #we can also just give variables values\n",
    "c = 4.2 #lets try floating point numbers\n",
    "d = 2+3j #this defines a complex number\n",
    "e = 'this is a string'\n",
    "f = \"this is also a string\" #stings are like lists of characters\n",
    "g = '' #this is an empty string\n",
    "gg = 'a'+3*'b' #strings can be added and multiplied\n",
    "h = True #this defines a Boolean type variable with the value True\n",
    "i = False\n",
    "j = [1,2,True,False,'string'] #this creates a list with things\n",
    "k = {'Element 1': 1, 'Element 2': 2} # this creates a dictionary\n",
    "j = (1,2) #this is a tuple\n",
    "l = [1,2].append(3) #we can append elements to a list\n"
   ]
  },
  {
   "cell_type": "markdown",
   "metadata": {},
   "source": [
    "## Task 1.2.1\n",
    "Access the 4th Element in a list of the letters a to f"
   ]
  },
  {
   "cell_type": "code",
   "execution_count": null,
   "metadata": {},
   "outputs": [],
   "source": [
    "### Your code here"
   ]
  },
  {
   "cell_type": "markdown",
   "metadata": {},
   "source": [
    "## Task 1.2.2\n",
    "create a word by chaining characters together "
   ]
  },
  {
   "cell_type": "code",
   "execution_count": null,
   "metadata": {},
   "outputs": [],
   "source": [
    "### Your code here"
   ]
  },
  {
   "cell_type": "markdown",
   "metadata": {},
   "source": [
    "## 1.3 Printing\n",
    "Printing is a valuable function to have"
   ]
  },
  {
   "cell_type": "code",
   "execution_count": null,
   "metadata": {},
   "outputs": [],
   "source": [
    "print('Hello World') # we can print strings directly\n",
    "print(a) #or we can print variables\n",
    "print(type(c)) #we can check types with the built in function type(...)\n",
    "print(d)\n",
    "print(e)\n",
    "print(k.keys()) \n",
    "print(k['Element 1']) #we can access values of a dictionary like this\n",
    "\n",
    "print('We can also write some text and put our variables into it.\\n For example we can print our variable b = {}, and our variable c={} \\n right into the console'.format(b,c))"
   ]
  },
  {
   "cell_type": "markdown",
   "metadata": {},
   "source": [
    "## Task 1.3.1\n",
    "Print your generated word"
   ]
  },
  {
   "cell_type": "code",
   "execution_count": null,
   "metadata": {},
   "outputs": [],
   "source": [
    "###Your code here"
   ]
  },
  {
   "cell_type": "markdown",
   "metadata": {},
   "source": [
    "## Task 1.3.2\n",
    "Print only the 3rd Letter of your generated word"
   ]
  },
  {
   "cell_type": "code",
   "execution_count": null,
   "metadata": {},
   "outputs": [],
   "source": [
    "###Your code here"
   ]
  },
  {
   "cell_type": "markdown",
   "metadata": {},
   "source": [
    "## Task 1.3.3\n",
    "Make a dictionary with 6 entries where you assign a word to a letter (B for Bus) and print it"
   ]
  },
  {
   "cell_type": "code",
   "execution_count": null,
   "metadata": {},
   "outputs": [],
   "source": [
    "###Your code here"
   ]
  },
  {
   "cell_type": "markdown",
   "metadata": {},
   "source": [
    "## 1.4 Control statements\n",
    "To tell a program what to do we need control statements"
   ]
  },
  {
   "cell_type": "code",
   "execution_count": null,
   "metadata": {},
   "outputs": [],
   "source": [
    "b = 'b'\n",
    "if type(b) == int: #the basic syntax for control statements\n",
    "    print('b is an {} of value: {}'.format(type(b),b))\n",
    "else:\n",
    "    print('b is of type {} with the value {}'.format(type(b), b))\n",
    "    \n",
    "#analogously\n",
    "if b is int: #this works because b is handled as an object this can also be used later for typechecking\n",
    "    print('b is an {} of value: {}'.format(type(b),b))\n",
    "else:\n",
    "    print('b is of type {} with the value {}'.format(type(b), b))"
   ]
  },
  {
   "cell_type": "code",
   "execution_count": null,
   "metadata": {},
   "outputs": [],
   "source": [
    "number = 8\n",
    "threshold = 7\n",
    "if number >= threshold: #<= is lower or equal and == is equal\n",
    "    print('{} is larger or equal to {}'.format(number,threshold))"
   ]
  },
  {
   "cell_type": "markdown",
   "metadata": {},
   "source": [
    "## 1.5 Loops"
   ]
  },
  {
   "cell_type": "code",
   "execution_count": null,
   "metadata": {},
   "outputs": [],
   "source": [
    "for iterator in range(5):\n",
    "    print(iterator)"
   ]
  },
  {
   "cell_type": "code",
   "execution_count": null,
   "metadata": {},
   "outputs": [],
   "source": [
    "for i in range(1,5):\n",
    "    print(i)"
   ]
  },
  {
   "cell_type": "code",
   "execution_count": null,
   "metadata": {},
   "outputs": [],
   "source": [
    "x=7\n",
    "while x<10: #this runs forever because x is not going up. Kernel can be interrupted with the square symbol at the top, or with ctrl+c\n",
    "    print(x)"
   ]
  },
  {
   "cell_type": "code",
   "execution_count": null,
   "metadata": {},
   "outputs": [],
   "source": [
    "x = 1\n",
    "while x<10:\n",
    "    print(x)\n",
    "    x+=1 #this adds one to x (equivalent to x=x+1)"
   ]
  },
  {
   "cell_type": "code",
   "execution_count": null,
   "metadata": {},
   "outputs": [],
   "source": [
    "import sys #import [package] is what you have to do to use advanced packages\n",
    "\n",
    "try:\n",
    "    f = open('doesnotexist.txt') #tries to open a file (does not exist) throws an OSError internally\n",
    "    s = f.readline()\n",
    "    i = int(s.strip())\n",
    "except OSError as err: #the error is caught here and handled accordingly\n",
    "    print(\"OS error: {0}\".format(err))\n",
    "except ValueError: #other types of possible errors that might occur can be handled below with custom error messages\n",
    "    print(\"Could not convert data to an integer.\")\n",
    "except:\n",
    "    print(\"Unexpected error:\", sys.exc_info()[0])\n",
    "    raise"
   ]
  },
  {
   "cell_type": "markdown",
   "metadata": {},
   "source": [
    "## Python as a calculator. Basic Operations"
   ]
  },
  {
   "cell_type": "code",
   "execution_count": null,
   "metadata": {},
   "outputs": [],
   "source": [
    "nine = 3*3 #multiplication\n",
    "four = 2**2 #exponentiation\n",
    "three = 1+2 #addition\n",
    "two = 4-2 #subtraction\n",
    "seven = 49.0/7.0 #division (floating)\n",
    "almost_pi = 22/7 #this can give floating number values even if the input numbers are floating point numbers\n",
    "seven_int = 49//7 #division (integer)\n",
    "modulo = 48%7 #modulo function (rest of integer division)\n",
    "comp = (2+3j)**2 #python can also operate on complex numbers \n"
   ]
  },
  {
   "cell_type": "code",
   "execution_count": null,
   "metadata": {},
   "outputs": [],
   "source": [
    "print(nine, four, three, two, seven, almost_pi, seven_int, modulo, comp)"
   ]
  },
  {
   "cell_type": "code",
   "execution_count": null,
   "metadata": {},
   "outputs": [],
   "source": [
    "print(9//2) #integer division truncates the floating points \n",
    "print(9.0//2.0) #it can be called with floats and the result is a float\n",
    "print(11//2.5) #this also works"
   ]
  },
  {
   "cell_type": "code",
   "execution_count": null,
   "metadata": {},
   "outputs": [],
   "source": [
    "print(\"9/2 is {} with rest {}\".format(9//2,9%2))"
   ]
  }
 ],
 "metadata": {
  "kernelspec": {
   "display_name": "Python 3",
   "language": "python",
   "name": "python3"
  },
  "language_info": {
   "codemirror_mode": {
    "name": "ipython",
    "version": 3
   },
   "file_extension": ".py",
   "mimetype": "text/x-python",
   "name": "python",
   "nbconvert_exporter": "python",
   "pygments_lexer": "ipython3",
   "version": "3.7.3"
  }
 },
 "nbformat": 4,
 "nbformat_minor": 2
}
