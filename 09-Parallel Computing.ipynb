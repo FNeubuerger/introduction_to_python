{
 "cells": [
  {
   "cell_type": "markdown",
   "metadata": {},
   "source": [
    "# Parallel computing\n",
    "\n",
    "- distributing the workload of complex processes can speed up work\n",
    "- a lot of processes can be parallelised\n",
    "- there are however cases where subprocesses can not be split up any more\n",
    "\n",
    "- there is a fundamental limit to the speed up archievable"
   ]
  },
  {
   "cell_type": "code",
   "execution_count": 1,
   "metadata": {},
   "outputs": [],
   "source": [
    "from joblib import Parallel, delayed\n",
    "from math import sqrt\n",
    "import time\n",
    "import os \n",
    "os.system(\"taskset -p 0xFFFFFFFF %d\" % os.getpid())\n",
    "import numpy as np\n",
    "\n",
    "def f(k):\n",
    "    return 2*k\n",
    "\n",
    "def benchmark(function, function_name):\n",
    "    start = time.time()\n",
    "    function()\n",
    "    end = time.time()\n",
    "    print(\"{0} seconds for {1}\".format((end - start), function_name))"
   ]
  },
  {
   "cell_type": "markdown",
   "metadata": {},
   "source": [
    "#### Normal fast code"
   ]
  },
  {
   "cell_type": "code",
   "execution_count": 2,
   "metadata": {},
   "outputs": [],
   "source": [
    "def list_single_thread(BIG=2000000):\n",
    "    return [f(i) for i in range(BIG)]"
   ]
  },
  {
   "cell_type": "markdown",
   "metadata": {},
   "source": [
    "#### Parallelized code"
   ]
  },
  {
   "cell_type": "code",
   "execution_count": 3,
   "metadata": {},
   "outputs": [],
   "source": [
    "def list_multi_thread(n_jobs=2, BIG=2000000): #default parameter is 2 cores\n",
    "    return Parallel(n_jobs=n_jobs)(delayed(f)(i) for i in np.split(np.arange(BIG), n_jobs))"
   ]
  },
  {
   "cell_type": "markdown",
   "metadata": {},
   "source": [
    "#### Do a benchmark"
   ]
  },
  {
   "cell_type": "code",
   "execution_count": 4,
   "metadata": {},
   "outputs": [
    {
     "name": "stdout",
     "output_type": "stream",
     "text": [
      "CPU times: user 315 ms, sys: 35.4 ms, total: 351 ms\n",
      "Wall time: 349 ms\n"
     ]
    }
   ],
   "source": [
    "%time _ = list_single_thread()"
   ]
  },
  {
   "cell_type": "code",
   "execution_count": 5,
   "metadata": {},
   "outputs": [
    {
     "name": "stdout",
     "output_type": "stream",
     "text": [
      "CPU times: user 77.3 ms, sys: 126 ms, total: 204 ms\n",
      "Wall time: 459 ms\n",
      "CPU times: user 30.6 ms, sys: 71.2 ms, total: 102 ms\n",
      "Wall time: 126 ms\n",
      "CPU times: user 37 ms, sys: 86.5 ms, total: 124 ms\n",
      "Wall time: 151 ms\n"
     ]
    }
   ],
   "source": [
    "%time _ = list_multi_thread(n_jobs=2)\n",
    "%time _ = list_multi_thread(n_jobs=4)\n",
    "%time _ = list_multi_thread(n_jobs=8)"
   ]
  },
  {
   "cell_type": "markdown",
   "metadata": {},
   "source": [
    "# But why is it not working or getting worse for more jobs?\n",
    "- the overhead of splitting the job and putting it back together needs ressources\n",
    "- some tasks are easier to parallelize\n",
    "- execution of a simple task on distinct parameters for example (Grid Scan, hyperparameter optimization)"
   ]
  },
  {
   "cell_type": "code",
   "execution_count": 6,
   "metadata": {},
   "outputs": [],
   "source": [
    "def parallel_dot(A,B,n_jobs=2):\n",
    "    \"\"\"\n",
    "     Computes A x B using more CPUs.\n",
    "     This works only when the number \n",
    "     of rows of A and the n_jobs are even.\n",
    "    \"\"\"\n",
    "    parallelizer = Parallel(n_jobs=n_jobs)\n",
    "    # this iterator returns the functions to execute for each task\n",
    "    tasks_iterator = (delayed(np.dot)(A_block,B) \n",
    "                      for A_block in np.split(A,n_jobs))\n",
    "    result = parallelizer(tasks_iterator)\n",
    "    # merging the output of the jobs\n",
    "    return np.vstack(result)\n",
    "\n",
    "A = np.random.randint(0,high=10,size=(1000,1000))\n",
    "B = np.random.randint(0,high=10,size=(1000,1000))"
   ]
  },
  {
   "cell_type": "code",
   "execution_count": 7,
   "metadata": {},
   "outputs": [
    {
     "name": "stdout",
     "output_type": "stream",
     "text": [
      "CPU times: user 3.86 s, sys: 6.5 ms, total: 3.87 s\n",
      "Wall time: 3.87 s\n"
     ]
    }
   ],
   "source": [
    "%time _ = np.dot(A,B)"
   ]
  },
  {
   "cell_type": "code",
   "execution_count": 8,
   "metadata": {},
   "outputs": [
    {
     "name": "stdout",
     "output_type": "stream",
     "text": [
      "CPU times: user 28.2 ms, sys: 44.3 ms, total: 72.5 ms\n",
      "Wall time: 2.63 s\n",
      "CPU times: user 591 ms, sys: 43.9 ms, total: 635 ms\n",
      "Wall time: 1.63 s\n",
      "CPU times: user 63 ms, sys: 48 ms, total: 111 ms\n",
      "Wall time: 1.78 s\n"
     ]
    }
   ],
   "source": [
    "%time _ = parallel_dot(A,B,n_jobs=2)\n",
    "%time _ = parallel_dot(A,B,n_jobs=4)\n",
    "%time _ = parallel_dot(A,B,n_jobs=8)"
   ]
  },
  {
   "cell_type": "markdown",
   "metadata": {},
   "source": [
    "### Exercise 9.1\n",
    "\n",
    "Paralellize the calculation of a polynomial.\n",
    "Define a polynomial function of third order that takes four parameters.\n",
    "\n",
    "Make a 10x10x10x10 grid of parameters with: $$ 0\\leq a,b,c,d \\leq 1$$ \n",
    "\n",
    "Calculate the polynomials for: $$ -2 \\leq x \\leq +2 $$\n",
    "\n",
    "Test the speedup."
   ]
  },
  {
   "cell_type": "code",
   "execution_count": 9,
   "metadata": {},
   "outputs": [],
   "source": [
    "### Your code here\n",
    "from collections import OrderedDict\n",
    "import csv\n",
    "from itertools import product\n",
    "\n",
    "def poly(x,a,b,c,d):\n",
    "    return a*x**3 + b*x**2 + c*x + d\n",
    "\n",
    "params = OrderedDict([\n",
    "    ('a' , np.linspace(0,1,10)),\n",
    "    ('b' , np.linspace(0,1,10)),\n",
    "    ('c' , np.linspace(0,1,10)),\n",
    "    ('d' , np.linspace(0,1,10))\n",
    "    ])\n",
    "\n",
    "with open('grid_params.csv', \"w\") as f:\n",
    "        c = csv.DictWriter(f, fieldnames=list(params.keys()))\n",
    "        c.writeheader()\n",
    "\n",
    "        for parameters in product(*params.values()):\n",
    "            d = OrderedDict(zip(list(params.keys()), parameters))\n",
    "            c.writerow(d)"
   ]
  },
  {
   "cell_type": "code",
   "execution_count": 10,
   "metadata": {},
   "outputs": [
    {
     "name": "stdout",
     "output_type": "stream",
     "text": [
      "CPU times: user 284 ms, sys: 8.02 ms, total: 292 ms\n",
      "Wall time: 292 ms\n",
      "CPU times: user 788 ms, sys: 4.74 ms, total: 793 ms\n",
      "Wall time: 954 ms\n"
     ]
    }
   ],
   "source": [
    "import pandas as pd\n",
    "x = np.linspace(-2,2,50)\n",
    "df = pd.read_csv('grid_params.csv')\n",
    "%time res = [poly(x,*line) for line in df.values]\n",
    "%time res_par = Parallel(n_jobs=4)(delayed(poly)(x,*line) for line in df.values)"
   ]
  },
  {
   "cell_type": "code",
   "execution_count": 11,
   "metadata": {},
   "outputs": [
    {
     "name": "stdout",
     "output_type": "stream",
     "text": [
      "Number of processors:  8\n",
      "CPU times: user 4.89 s, sys: 740 ms, total: 5.63 s\n",
      "Wall time: 8.6 s\n"
     ]
    }
   ],
   "source": [
    "import multiprocessing as mp\n",
    "print(\"Number of processors: \", mp.cpu_count())\n",
    "pool = mp.Pool(mp.cpu_count())\n",
    "%time result = [pool.apply(poly, args=(x, *line)) for line in df.values]\n",
    "pool.close()"
   ]
  },
  {
   "cell_type": "code",
   "execution_count": 12,
   "metadata": {},
   "outputs": [
    {
     "name": "stdout",
     "output_type": "stream",
     "text": [
      "CPU times: user 316 ms, sys: 27.5 ms, total: 343 ms\n",
      "Wall time: 343 ms\n"
     ]
    }
   ],
   "source": [
    "pool = mp.Pool(mp.cpu_count())\n",
    "%time result = pool.starmap(poly, [(x, *line) for line in df.values])\n",
    "pool.close()"
   ]
  },
  {
   "cell_type": "markdown",
   "metadata": {},
   "source": [
    "# Are there other libraries for parallel processing?\n",
    "\n",
    "- Yes. A lot of them https://wiki.python.org/moin/ParallelProcessing\n",
    "\n",
    "- multiprocessing is another library that is easy to use\n"
   ]
  },
  {
   "cell_type": "code",
   "execution_count": null,
   "metadata": {},
   "outputs": [],
   "source": []
  }
 ],
 "metadata": {
  "kernelspec": {
   "display_name": "Python 3",
   "language": "python",
   "name": "python3"
  },
  "language_info": {
   "codemirror_mode": {
    "name": "ipython",
    "version": 3
   },
   "file_extension": ".py",
   "mimetype": "text/x-python",
   "name": "python",
   "nbconvert_exporter": "python",
   "pygments_lexer": "ipython3",
   "version": "3.6.6"
  }
 },
 "nbformat": 4,
 "nbformat_minor": 2
}
