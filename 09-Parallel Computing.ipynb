{
 "cells": [
  {
   "cell_type": "markdown",
   "metadata": {},
   "source": [
    "# Parallel computing\n",
    "\n",
    "- distributing the workload of complex processes can speed up work\n",
    "- a lot of processes can be parallelised\n",
    "- there are however cases where subprocesses can not be split up any more\n",
    "\n",
    "- there is a fundamental limit to the speed up archievable"
   ]
  },
  {
   "cell_type": "code",
   "execution_count": 1,
   "metadata": {},
   "outputs": [],
   "source": [
    "from joblib import Parallel, delayed\n",
    "from math import sqrt\n",
    "import time\n",
    "import os \n",
    "os.system(\"taskset -p 0xFFFFFFFF %d\" % os.getpid())\n",
    "import numpy as np\n",
    "\n",
    "def f(k):\n",
    "    return 2*k\n",
    "\n",
    "def benchmark(function, function_name):\n",
    "    start = time.time()\n",
    "    function()\n",
    "    end = time.time()\n",
    "    print(\"{0} seconds for {1}\".format((end - start), function_name))"
   ]
  },
  {
   "cell_type": "markdown",
   "metadata": {},
   "source": [
    "#### Normal fast code"
   ]
  },
  {
   "cell_type": "code",
   "execution_count": 23,
   "metadata": {},
   "outputs": [],
   "source": [
    "def list_single_thread(BIG=2000000):\n",
    "    return [f(i) for i in range(BIG)]"
   ]
  },
  {
   "cell_type": "markdown",
   "metadata": {},
   "source": [
    "#### Parallelized code"
   ]
  },
  {
   "cell_type": "code",
   "execution_count": 24,
   "metadata": {},
   "outputs": [],
   "source": [
    "def list_multi_thread(n_jobs=2, BIG=2000000): #default parameter is 2 cores\n",
    "    return Parallel(n_jobs=n_jobs)(delayed(f)(i) for i in np.split(np.arange(BIG), n_jobs))"
   ]
  },
  {
   "cell_type": "markdown",
   "metadata": {},
   "source": [
    "#### Do a benchmark"
   ]
  },
  {
   "cell_type": "code",
   "execution_count": 25,
   "metadata": {},
   "outputs": [
    {
     "name": "stdout",
     "output_type": "stream",
     "text": [
      "CPU times: user 176 ms, sys: 12 ms, total: 188 ms\n",
      "Wall time: 187 ms\n"
     ]
    }
   ],
   "source": [
    "%time _ = list_single_thread()"
   ]
  },
  {
   "cell_type": "code",
   "execution_count": 32,
   "metadata": {},
   "outputs": [
    {
     "name": "stdout",
     "output_type": "stream",
     "text": [
      "CPU times: user 15 ms, sys: 40.3 ms, total: 55.3 ms\n",
      "Wall time: 124 ms\n",
      "CPU times: user 49.3 ms, sys: 28.5 ms, total: 77.8 ms\n",
      "Wall time: 76.4 ms\n",
      "CPU times: user 58.1 ms, sys: 61.1 ms, total: 119 ms\n",
      "Wall time: 130 ms\n"
     ]
    }
   ],
   "source": [
    "%time _ = list_multi_thread(n_jobs=2)\n",
    "%time _ = list_multi_thread(n_jobs=4)\n",
    "%time _ = list_multi_thread(n_jobs=8)"
   ]
  },
  {
   "cell_type": "markdown",
   "metadata": {},
   "source": [
    "# But why is it not working or getting worse for more jobs?\n",
    "- the overhead of splitting the job and putting it back together needs ressources\n",
    "- some tasks are easier to parallelize\n",
    "- execution of a simple task on distinct parameters for example (Grid Scan, hyperparameter optimization)"
   ]
  },
  {
   "cell_type": "code",
   "execution_count": 6,
   "metadata": {},
   "outputs": [],
   "source": [
    "def parallel_dot(A,B,n_jobs=2):\n",
    "    \"\"\"\n",
    "     Computes A x B using more CPUs.\n",
    "     This works only when the number \n",
    "     of rows of A and the n_jobs are even.\n",
    "    \"\"\"\n",
    "    parallelizer = Parallel(n_jobs=n_jobs)\n",
    "    # this iterator returns the functions to execute for each task\n",
    "    tasks_iterator = (delayed(np.dot)(A_block,B) \n",
    "                      for A_block in np.split(A,n_jobs))\n",
    "    result = parallelizer(tasks_iterator)\n",
    "    # merging the output of the jobs\n",
    "    return np.vstack(result)\n",
    "\n",
    "A = np.random.randint(0,high=10,size=(1000,1000))\n",
    "B = np.random.randint(0,high=10,size=(1000,1000))"
   ]
  },
  {
   "cell_type": "code",
   "execution_count": 7,
   "metadata": {},
   "outputs": [
    {
     "name": "stdout",
     "output_type": "stream",
     "text": [
      "CPU times: user 1.92 s, sys: 0 ns, total: 1.92 s\n",
      "Wall time: 1.92 s\n"
     ]
    }
   ],
   "source": [
    "%time _ = np.dot(A,B)"
   ]
  },
  {
   "cell_type": "code",
   "execution_count": null,
   "metadata": {},
   "outputs": [
    {
     "name": "stdout",
     "output_type": "stream",
     "text": [
      "CPU times: user 10.8 ms, sys: 23.3 ms, total: 34 ms\n",
      "Wall time: 1.49 s\n",
      "CPU times: user 605 ms, sys: 42.5 ms, total: 647 ms\n",
      "Wall time: 1.04 s\n"
     ]
    }
   ],
   "source": [
    "%time _ = parallel_dot(A,B,n_jobs=2)\n",
    "%time _ = parallel_dot(A,B,n_jobs=4)\n",
    "%time _ = parallel_dot(A,B,n_jobs=8)"
   ]
  },
  {
   "cell_type": "code",
   "execution_count": null,
   "metadata": {},
   "outputs": [],
   "source": []
  }
 ],
 "metadata": {
  "kernelspec": {
   "display_name": "Python 3",
   "language": "python",
   "name": "python3"
  },
  "language_info": {
   "codemirror_mode": {
    "name": "ipython",
    "version": 3
   },
   "file_extension": ".py",
   "mimetype": "text/x-python",
   "name": "python",
   "nbconvert_exporter": "python",
   "pygments_lexer": "ipython3",
   "version": "3.7.3"
  }
 },
 "nbformat": 4,
 "nbformat_minor": 2
}
