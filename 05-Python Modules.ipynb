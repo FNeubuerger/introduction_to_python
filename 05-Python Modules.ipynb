{
 "cells": [
  {
   "cell_type": "markdown",
   "metadata": {},
   "source": [
    "# Packages and Modules in Python\n",
    "\n",
    "Packages and modules are a great tool to program reusable and maintainable code.\n",
    "In the next two Notebooks we will learn how to build and use packages.\n",
    "On top this will be embedded in a programming best practice framework so everybody can contribute easily."
   ]
  },
  {
   "cell_type": "markdown",
   "metadata": {},
   "source": [
    "First we want to take a detour and install and use git as a versioning tool.\n",
    "\n",
    "If you are not familiar with the concept go to: https://guides.github.com/activities/hello-world/ and familiarize yourself with the tool.\n",
    "\n",
    "Also since we dont want to invent the wheel again there is a tool to create blueprints of projects. These blueprints are in line with python programming best practices. A useful tool for this is cookiecutter.\n",
    "Go to https://cookiecutter.readthedocs.io/en/latest/ and familiarize with the project.\n",
    "\n",
    "There are also open source testing suites to make your life as a developer easier. One of those suites, that is also natively supported with the cookiecutter project is Travis CI. https://travis-ci.com/ \n",
    "This tool makes it possible to test your code when you have predefined tests so you don't have to do it manually yourself.\n",
    "\n",
    "We can now create a project with a test environment."
   ]
  },
  {
   "cell_type": "markdown",
   "metadata": {},
   "source": [
    "## Exercise 5.1\n",
    "\n",
    "Create a project with cookiecutter with the name: xxx that contains all your information and push it to a remote repository on github."
   ]
  },
  {
   "cell_type": "markdown",
   "metadata": {},
   "source": [
    "## Exercise 5.2\n",
    "\n",
    "Install your package for your user by typing ```pip install --user setup.py```"
   ]
  },
  {
   "cell_type": "markdown",
   "metadata": {},
   "source": [
    "## Exercise 5.3\n",
    "\n",
    "Write a function called func() that does stuff.\n",
    "Commit the changes to the git repository.\n",
    "Then install the package again.\n",
    "After the installation is complete import this function from the package and execute it to test if it works."
   ]
  },
  {
   "cell_type": "code",
   "execution_count": 2,
   "metadata": {},
   "outputs": [
    {
     "ename": "ModuleNotFoundError",
     "evalue": "No module named 'xxx'",
     "output_type": "error",
     "traceback": [
      "\u001b[0;31m---------------------------------------------------------------------------\u001b[0m",
      "\u001b[0;31mModuleNotFoundError\u001b[0m                       Traceback (most recent call last)",
      "\u001b[0;32m<ipython-input-2-0bf0f4646c21>\u001b[0m in \u001b[0;36m<module>\u001b[0;34m()\u001b[0m\n\u001b[1;32m      1\u001b[0m \u001b[0;31m### Your code here\u001b[0m\u001b[0;34m\u001b[0m\u001b[0;34m\u001b[0m\u001b[0;34m\u001b[0m\u001b[0m\n\u001b[0;32m----> 2\u001b[0;31m \u001b[0;32mimport\u001b[0m \u001b[0mxxx\u001b[0m \u001b[0;32mas\u001b[0m \u001b[0mxx\u001b[0m\u001b[0;34m\u001b[0m\u001b[0;34m\u001b[0m\u001b[0m\n\u001b[0m\u001b[1;32m      3\u001b[0m \u001b[0mxx\u001b[0m\u001b[0;34m.\u001b[0m\u001b[0mfunc\u001b[0m\u001b[0;34m(\u001b[0m\u001b[0;34m)\u001b[0m\u001b[0;34m\u001b[0m\u001b[0;34m\u001b[0m\u001b[0m\n",
      "\u001b[0;31mModuleNotFoundError\u001b[0m: No module named 'xxx'"
     ]
    }
   ],
   "source": [
    "### Your code here\n",
    "import xxx as xx\n",
    "xx.func()"
   ]
  },
  {
   "cell_type": "code",
   "execution_count": null,
   "metadata": {},
   "outputs": [],
   "source": []
  }
 ],
 "metadata": {
  "kernelspec": {
   "display_name": "Python 3",
   "language": "python",
   "name": "python3"
  },
  "language_info": {
   "codemirror_mode": {
    "name": "ipython",
    "version": 3
   },
   "file_extension": ".py",
   "mimetype": "text/x-python",
   "name": "python",
   "nbconvert_exporter": "python",
   "pygments_lexer": "ipython3",
   "version": "3.7.3"
  }
 },
 "nbformat": 4,
 "nbformat_minor": 2
}
